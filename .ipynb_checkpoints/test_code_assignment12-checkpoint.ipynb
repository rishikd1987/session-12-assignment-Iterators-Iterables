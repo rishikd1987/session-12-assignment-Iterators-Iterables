{
 "cells": [
  {
   "cell_type": "markdown",
   "metadata": {
    "colab_type": "text",
    "id": "view-in-github"
   },
   "source": [
    "<a href=\"https://colab.research.google.com/github/rishikd1987/session-12-assignment-Iterators-Iterables/blob/main/test_code_assignment12.ipynb\" target=\"_parent\"><img src=\"https://colab.research.google.com/assets/colab-badge.svg\" alt=\"Open In Colab\"/></a>"
   ]
  },
  {
   "cell_type": "code",
   "execution_count": 41,
   "metadata": {},
   "outputs": [],
   "source": [
    "from IPython.core.interactiveshell import InteractiveShell\n",
    "InteractiveShell.ast_node_interactivity = \"all\""
   ]
  },
  {
   "cell_type": "code",
   "execution_count": 42,
   "metadata": {
    "id": "W64yQcOk0bOQ"
   },
   "outputs": [],
   "source": [
    "import session12\n",
    "from session12 import *\n",
    "from datetime import datetime\n",
    "from io import StringIO\n",
    "import pytest\n",
    "import sys\n",
    "import time\n",
    "import inspect\n",
    "import os\n",
    "import re"
   ]
  },
  {
   "cell_type": "code",
   "execution_count": 42,
   "metadata": {},
   "outputs": [],
   "source": [
    "README_CONTENT_CHECK_FOR = [\n",
    "    \"Polygon\"\n",
    "]"
   ]
  },
  {
   "cell_type": "code",
   "execution_count": 43,
   "metadata": {},
   "outputs": [],
   "source": [
    "# test if readme file exists\n",
    "assert os.path.isfile(\"README.md\"), \"README.md file missing!\""
   ]
  },
  {
   "cell_type": "code",
   "execution_count": 46,
   "metadata": {},
   "outputs": [],
   "source": [
    "# test readme file contents for minimum word count\n",
    "readme = open(\"README.md\", \"r\")\n",
    "readme_words = readme.read().split()\n",
    "readme.close()\n",
    "assert len(readme_words) >= 430, \"Make your README.md file interesting! Add atleast 430 words\""
   ]
  },
  {
   "cell_type": "code",
   "execution_count": 45,
   "metadata": {},
   "outputs": [],
   "source": [
    "# test readme file for proper descriptions\n",
    "READMELOOKSGOOD = True\n",
    "f = open(\"README.md\", \"r\", encoding=\"utf-8\")\n",
    "content = f.read()\n",
    "f.close()\n",
    "for c in README_CONTENT_CHECK_FOR:\n",
    "    if c not in content:\n",
    "        READMELOOKSGOOD = False\n",
    "        pass\n",
    "assert READMELOOKSGOOD == True, \"You have not described all the functions/class well in your README.md file\""
   ]
  },
  {
   "cell_type": "code",
   "execution_count": 46,
   "metadata": {},
   "outputs": [],
   "source": [
    "# test readme file for proper formatting\n",
    "f = open(\"README.md\", \"r\", encoding=\"utf-8\")\n",
    "content = f.read()\n",
    "f.close()\n",
    "assert content.count(\"#\") >= 10"
   ]
  },
  {
   "cell_type": "code",
   "execution_count": 47,
   "metadata": {},
   "outputs": [
    {
     "data": {
      "text/plain": [
       "' Returns pass if used four spaces for each level of syntactically significant indenting.'"
      ]
     },
     "execution_count": 47,
     "metadata": {},
     "output_type": "execute_result"
    }
   ],
   "source": [
    "# test session12 file indentations\n",
    "''' Returns pass if used four spaces for each level of syntactically \\\n",
    "significant indenting.'''\n",
    "lines = inspect.getsource(session12)\n",
    "spaces = re.findall('\\n +.', lines)\n",
    "for space in spaces:\n",
    "    assert len(space) % 4 == 2, \"Your script contains misplaced indentations\"\n",
    "    assert len(re.sub(r'[^ ]', '', space)) % 4 == 0, \"Your code indentation does not follow PEP8 guidelines\"\n"
   ]
  },
  {
   "cell_type": "code",
   "execution_count": 48,
   "metadata": {},
   "outputs": [],
   "source": [
    "# test if there are capital letters in function names\n",
    "functions = inspect.getmembers(session12, inspect.isfunction)\n",
    "for function in functions:\n",
    "    assert len(re.findall('([A-Z])', function[0])) == 0, \"You have used Capital letter(s) in your function names\"\n"
   ]
  },
  {
   "cell_type": "code",
   "execution_count": 10,
   "metadata": {},
   "outputs": [],
   "source": [
    "#test __repr__ method\n",
    "x = Polygon((5,10))\n",
    "assert str(x)==\"Polygon with 5 edges and circumradius=10\",\"__repr__ function not working properly\""
   ]
  },
  {
   "cell_type": "code",
   "execution_count": 22,
   "metadata": {},
   "outputs": [
    {
     "name": "stdout",
     "output_type": "stream",
     "text": [
      "----------First time calling----------\n",
      "Calculating interior angle\n",
      "128.57142857142858\n",
      "----------Second time calling----------\n"
     ]
    },
    {
     "data": {
      "text/plain": [
       "128.57142857142858"
      ]
     },
     "execution_count": 22,
     "metadata": {},
     "output_type": "execute_result"
    }
   ],
   "source": [
    "#test lazy propert of interior angle\n",
    "poly_obj = Polygon((7,10))\n",
    "print(\"----------First time calling----------\")\n",
    "print(poly_obj.interior_angle)\n",
    "print('----------Second time calling----------')\n",
    "poly_obj.interior_angle"
   ]
  },
  {
   "cell_type": "code",
   "execution_count": 23,
   "metadata": {},
   "outputs": [
    {
     "name": "stdout",
     "output_type": "stream",
     "text": [
      "----------First time calling----------\n",
      "Calculating edge length\n",
      "8.677674782351163\n",
      "----------Second time calling----------\n",
      "8.677674782351163\n"
     ]
    }
   ],
   "source": [
    "#test lazy propert of edge length\n",
    "print(\"----------First time calling----------\")\n",
    "print(poly_obj.edge_length)\n",
    "print(\"----------Second time calling----------\")\n",
    "print(poly_obj.edge_length)"
   ]
  },
  {
   "cell_type": "code",
   "execution_count": 24,
   "metadata": {},
   "outputs": [
    {
     "name": "stdout",
     "output_type": "stream",
     "text": [
      "----------First time calling----------\n",
      "Calculating apothem\n",
      "9.009688679024192\n",
      "----------Second time calling----------\n",
      "9.009688679024192\n"
     ]
    }
   ],
   "source": [
    "#test lazy propert of apothem\n",
    "print(\"----------First time calling----------\")\n",
    "print(poly_obj.apothem)\n",
    "print(\"----------Second time calling----------\")\n",
    "print(poly_obj.apothem)"
   ]
  },
  {
   "cell_type": "code",
   "execution_count": 25,
   "metadata": {},
   "outputs": [
    {
     "name": "stdout",
     "output_type": "stream",
     "text": [
      "----------First time calling----------\n",
      "Calculating area\n",
      "4054.359905560887\n",
      "----------Second time calling----------\n",
      "4054.359905560887\n"
     ]
    }
   ],
   "source": [
    "#test lazy propert of area\n",
    "print(\"----------First time calling----------\")\n",
    "print(poly_obj.area)\n",
    "print(\"----------Second time calling----------\")\n",
    "print(poly_obj.area)"
   ]
  },
  {
   "cell_type": "code",
   "execution_count": 26,
   "metadata": {},
   "outputs": [
    {
     "name": "stdout",
     "output_type": "stream",
     "text": [
      "----------First time calling----------\n",
      "Calculating perimeter\n",
      "60.74372347645814\n",
      "----------Second time calling----------\n",
      "60.74372347645814\n"
     ]
    }
   ],
   "source": [
    "#test lazy propert of perimeter\n",
    "print(\"----------First time calling----------\")\n",
    "print(poly_obj.perimeter)\n",
    "print(\"----------Second time calling----------\")\n",
    "print(poly_obj.perimeter)"
   ]
  },
  {
   "cell_type": "code",
   "execution_count": 33,
   "metadata": {},
   "outputs": [
    {
     "name": "stdout",
     "output_type": "stream",
     "text": [
      "[Polygon with 3 edges and circumradius=10, Polygon with 4 edges and circumradius=10, Polygon with 5 edges and circumradius=10, Polygon with 6 edges and circumradius=10, Polygon with 7 edges and circumradius=10, Polygon with 8 edges and circumradius=10, Polygon with 9 edges and circumradius=10, Polygon with 10 edges and circumradius=10, Polygon with 11 edges and circumradius=10, Polygon with 12 edges and circumradius=10, Polygon with 13 edges and circumradius=10, Polygon with 14 edges and circumradius=10, Polygon with 15 edges and circumradius=10]\n"
     ]
    }
   ],
   "source": [
    "#test iterable characteristic of Polygon_sequence\n",
    "poly_seq = Polygon_sequence(15,10)\n",
    "print(list(poly_seq))"
   ]
  },
  {
   "cell_type": "code",
   "execution_count": 36,
   "metadata": {},
   "outputs": [
    {
     "name": "stdout",
     "output_type": "stream",
     "text": [
      "Calculating area\n",
      "Calculating interior angle\n",
      "Calculating apothem\n",
      "Calculating perimeter\n",
      "Calculating edge length\n",
      "Calculating area\n",
      "Calculating interior angle\n",
      "Calculating apothem\n",
      "Calculating perimeter\n",
      "Calculating edge length\n",
      "Calculating area\n",
      "Calculating interior angle\n",
      "Calculating apothem\n",
      "Calculating perimeter\n",
      "Calculating edge length\n",
      "Calculating area\n",
      "Calculating interior angle\n",
      "Calculating apothem\n",
      "Calculating perimeter\n",
      "Calculating edge length\n",
      "Calculating area\n",
      "Calculating interior angle\n",
      "Calculating apothem\n",
      "Calculating perimeter\n",
      "Calculating edge length\n",
      "Calculating area\n",
      "Calculating interior angle\n",
      "Calculating apothem\n",
      "Calculating perimeter\n",
      "Calculating edge length\n",
      "Calculating area\n",
      "Calculating interior angle\n",
      "Calculating apothem\n",
      "Calculating perimeter\n",
      "Calculating edge length\n",
      "Calculating area\n",
      "Calculating interior angle\n",
      "Calculating apothem\n",
      "Calculating perimeter\n",
      "Calculating edge length\n",
      "Calculating area\n",
      "Calculating interior angle\n",
      "Calculating apothem\n",
      "Calculating perimeter\n",
      "Calculating edge length\n",
      "Calculating area\n",
      "Calculating interior angle\n",
      "Calculating apothem\n",
      "Calculating perimeter\n",
      "Calculating edge length\n",
      "Calculating area\n",
      "Calculating interior angle\n",
      "Calculating apothem\n",
      "Calculating perimeter\n",
      "Calculating edge length\n",
      "Calculating area\n",
      "Calculating interior angle\n",
      "Calculating apothem\n",
      "Calculating perimeter\n",
      "Calculating edge length\n",
      "Calculating area\n",
      "Calculating interior angle\n",
      "Calculating apothem\n",
      "Calculating perimeter\n",
      "Calculating edge length\n"
     ]
    }
   ],
   "source": [
    "#test max efficiency property\n",
    "assert str(poly_seq.max_efficiency())==\"Polygon with 15 edges and circumradius=10\",\"max efficiency function not working properly\""
   ]
  },
  {
   "cell_type": "code",
   "execution_count": 37,
   "metadata": {},
   "outputs": [],
   "source": [
    "#test length of Polygon sequence\n",
    "assert len(list(poly_seq))==13,\"Length function not working properly\""
   ]
  },
  {
   "cell_type": "code",
   "execution_count": 40,
   "metadata": {},
   "outputs": [],
   "source": [
    "#test _getitem__ method on Polygon Sequence\n",
    "assert str(list(poly_seq).__getitem__(3))==\"Polygon with 6 edges and circumradius=10\",\"__getitem__ function not working properly\""
   ]
  },
  {
   "cell_type": "code",
   "execution_count": null,
   "metadata": {},
   "outputs": [],
   "source": []
  }
 ],
 "metadata": {
  "colab": {
   "authorship_tag": "ABX9TyMD1nDvmmWbpPMkEMPyzCCh",
   "include_colab_link": true,
   "name": "Untitled3.ipynb",
   "provenance": []
  },
  "interpreter": {
   "hash": "b3ba2566441a7c06988d0923437866b63cedc61552a5af99d1f4fb67d367b25f"
  },
  "kernelspec": {
   "display_name": "Python 3",
   "language": "python",
   "name": "python3"
  },
  "language_info": {
   "codemirror_mode": {
    "name": "ipython",
    "version": 3
   },
   "file_extension": ".py",
   "mimetype": "text/x-python",
   "name": "python",
   "nbconvert_exporter": "python",
   "pygments_lexer": "ipython3",
   "version": "3.7.4"
  }
 },
 "nbformat": 4,
 "nbformat_minor": 2
}
